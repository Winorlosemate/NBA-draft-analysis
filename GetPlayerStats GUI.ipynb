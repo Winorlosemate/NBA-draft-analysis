{
 "cells": [
  {
   "cell_type": "code",
   "execution_count": null,
   "metadata": {
    "collapsed": true
   },
   "outputs": [],
   "source": []
  },
  {
   "cell_type": "code",
   "execution_count": null,
   "metadata": {},
   "outputs": [],
   "source": [
    "import tkinter as tk\n",
    "import requests\n",
    "\n",
    "HEIGHT = 700 \n",
    "WIDTH = 800\n",
    "\n",
    "def test_function():\n",
    "    print(\"Hello, this works\")\n",
    "    \n",
    "def getPlayer():\n",
    "    print(\"Hello, this works. You have selected:\")\n",
    "    url = 'http://data.nba.net/10s/prod/v1/2018/players.json'\n",
    "    response = requests.get(url)\n",
    "    playerName = response.json()\n",
    "    \n",
    "    print(playerName['firstName'][0])\n",
    "\n",
    "    \n",
    "    #here, we print what you need from the player\n",
    "    #print the coll\n",
    "\n",
    "root = tk.Tk()\n",
    "\n",
    "canvas = tk.Canvas(root, height=HEIGHT, width=WIDTH)\n",
    "canvas.pack()\n",
    "\n",
    "background_image = tk.PhotoImage(file = r'C:\\Users\\Karl\\Desktop\\BlendBoys\\mj1.png')\n",
    "background_label = tk.Label(root, image=background_image)\n",
    "background_label.place(relwidth=1, relheight=1)\n",
    "\n",
    "\n",
    "\n",
    "def var_states():\n",
    "    print(\"male: %d, \\nfemale: %d\" % (var1.get(), var2.get()))\n",
    "    \n",
    "\n",
    "punt_frame = tk.Frame(root,  bg='#80c1ff')\n",
    "punt_frame.place(relwidth=1, relheight=0.1)\n",
    "\n",
    "punt_label = tk.Label(punt_frame, text=\"Select your punt categories:\", font=20)\n",
    "punt_label.place(relx=0.0, rely=0.1)\n",
    "\n",
    "check_button_FG = tk.Checkbutton(punt_frame, text=\"FG%\")\n",
    "check_button_FG.place(relx=0.4, rely=0.1, relwidth=0.1, relheight=0.5)\n",
    "\n",
    "check_button_FT = tk.Checkbutton(punt_frame, text=\"FT%\")\n",
    "check_button_FT.place(relx=0.4, rely=0.5, relwidth=0.1, relheight=0.5)\n",
    "\n",
    "check_button_Pts = tk.Checkbutton(punt_frame, text=\"Pts\")\n",
    "check_button_Pts.place(relx=0.5, rely=0.1, relwidth=0.1, relheight=0.5)\n",
    "\n",
    "check_button_3PM = tk.Checkbutton(punt_frame, text=\"3PM\")\n",
    "check_button_3PM.place(relx=0.5, rely=0.5, relwidth=0.1, relheight=0.5)\n",
    "\n",
    "frame = tk.Frame(root, bg='#80c1ff')\n",
    "frame.place(relx=0.5, rely=0.1, relwidth=1, relheight=0.05, anchor='n')\n",
    "\n",
    "entry1 = tk.Entry(frame, font=10)\n",
    "entry1.place(relx=0.0, rely=0.1, relwidth=0.4, relheight=1)\n",
    "\n",
    "entry2 = tk.Entry(frame, font=10)\n",
    "entry2.place(relx=0.5, rely=0.1, relwidth=0.4, relheight=1)\n",
    "\n",
    "button_playerOne= tk.Button(frame, text=\"Player2\", font=10, command=getPlayer)\n",
    "button_playerOne.place(relx=0.9, rely=0.1, relheight=1, relwidth=0.1)\n",
    "\n",
    "button_playerTwo= tk.Button(frame, text=\"Player1\", font=10, command=getPlayer)\n",
    "button_playerTwo.place(relx=0.4, rely=0.1, relheight=1, relwidth=0.1)\n",
    "\n",
    "lower_frame_left = tk.Frame(root, bg='#E6D3B5', bd=10)\n",
    "lower_frame_left.place(relx=0.2, rely=0.2, relwidth=0.3, relheight=0.4, anchor='n')\n",
    "\n",
    "lower_frame_right = tk.Frame(root, bg='#E6D3B5', bd=10)\n",
    "lower_frame_right.place(relx=0.8, rely=0.2, relwidth=0.3, relheight=0.4, anchor='n')\n",
    "\n",
    "label_1 = tk.Label(lower_frame_left, text=\"Player Stats 1 Here\", bg=\"#E6D3B5\")\n",
    "label_1.place(relwidth=1, relheight=1)\n",
    "\n",
    "label_2 = tk.Label(lower_frame_right, text=\"Player Stats 2 Here\", bg=\"#E6D3B5\")\n",
    "label_2.place(relwidth=1, relheight=1)\n",
    "#lambda function -> defined at the time that the function is run\n",
    "\n",
    "\n",
    "root.mainloop()"
   ]
  },
  {
   "cell_type": "code",
   "execution_count": null,
   "metadata": {
    "collapsed": true
   },
   "outputs": [],
   "source": []
  },
  {
   "cell_type": "code",
   "execution_count": null,
   "metadata": {
    "collapsed": true
   },
   "outputs": [],
   "source": []
  }
 ],
 "metadata": {
  "kernelspec": {
   "display_name": "Python 3",
   "language": "python",
   "name": "python3"
  },
  "language_info": {
   "codemirror_mode": {
    "name": "ipython",
    "version": 3
   },
   "file_extension": ".py",
   "mimetype": "text/x-python",
   "name": "python",
   "nbconvert_exporter": "python",
   "pygments_lexer": "ipython3",
   "version": "3.6.1"
  }
 },
 "nbformat": 4,
 "nbformat_minor": 2
}
